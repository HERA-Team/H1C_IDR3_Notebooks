{
 "cells": [
  {
   "cell_type": "markdown",
   "metadata": {},
   "source": [
    "# Stage 2 Calibration Smoothing Nightly Notebook\n",
    "\n",
    "**Josh Dillon**, Last Revised 12/4/20"
   ]
  },
  {
   "cell_type": "code",
   "execution_count": 1,
   "metadata": {
    "ExecuteTime": {
     "end_time": "2020-12-05T00:18:04.316281Z",
     "start_time": "2020-12-05T00:17:57.448140Z"
    }
   },
   "outputs": [],
   "source": [
    "import numpy as np\n",
    "import matplotlib.pyplot as plt\n",
    "import matplotlib\n",
    "from hera_cal import io, redcal, apply_cal, abscal, utils\n",
    "from hera_cal.smooth_cal import build_time_blacklist\n",
    "from hera_qm.metrics_io import load_metric_file\n",
    "import pyuvdata\n",
    "import glob\n",
    "import os\n",
    "from copy import deepcopy\n",
    "import inspect\n",
    "import h5py\n",
    "import matplotlib.cm as cm\n",
    "\n",
    "%matplotlib inline\n",
    "%config InlineBackend.figure_format = 'retina'"
   ]
  },
  {
   "cell_type": "code",
   "execution_count": 2,
   "metadata": {
    "ExecuteTime": {
     "end_time": "2020-12-05T00:18:04.322484Z",
     "start_time": "2020-12-05T00:18:04.318263Z"
    }
   },
   "outputs": [],
   "source": [
    "# If you want to run this notebook locally, copy the output of the next cell into the first few lines of this cell.\n",
    "\n",
    "# JD = '2459122'\n",
    "# data_path = '/lustre/aoc/projects/hera/H4C/2459122'\n",
    "# lst_blacklist_string = '0-1.3 2.5-4.3 5.0-5.7 6.5-9.1 10.6-11.5 11.9-14.3 16.3-1.3'\n",
    "# abscal_model_glob = '/lustre/aoc/projects/hera/zmartino/hera_calib_model/H3C/abscal_files_unique_baselines/zen.2458894.?????.uvh5'\n",
    "# os.environ[\"JULIANDATE\"] = JD\n",
    "# os.environ[\"DATA_PATH\"] = data_path\n",
    "# os.environ[\"LST_BLACKLIST_STRING\"] = lst_blacklist_string\n",
    "# os.environ[\"ABSCAL_MODEL_GLOB\"] = abscal_model_glob"
   ]
  },
  {
   "cell_type": "code",
   "execution_count": 3,
   "metadata": {
    "ExecuteTime": {
     "end_time": "2020-12-05T00:18:04.348277Z",
     "start_time": "2020-12-05T00:18:04.327430Z"
    }
   },
   "outputs": [
    {
     "name": "stdout",
     "output_type": "stream",
     "text": [
      "JD = \"2458070\"\n",
      "data_path = \"/lustre/aoc/projects/hera/H1C_IDR3/IDR3_2/2458070\"\n",
      "lst_blacklist_string = \"\"\n",
      "abscal_model_glob = \"/lustre/aoc/projects/hera/nkern/idr3_abscal_models/full_model/zen.245804*.HH.uvRXLS.uvh5\"\n"
     ]
    }
   ],
   "source": [
    "# Use environment variables to figure out path to data\n",
    "JD = os.environ['JULIANDATE']\n",
    "data_path = os.environ['DATA_PATH']\n",
    "lst_blacklist_string = os.environ['LST_BLACKLIST_STRING']\n",
    "abscal_model_glob = os.environ['ABSCAL_MODEL_GLOB']\n",
    "print(f'JD = \"{JD}\"')\n",
    "print(f'data_path = \"{data_path}\"')\n",
    "print(f'lst_blacklist_string = \"{lst_blacklist_string}\"')\n",
    "print(f'abscal_model_glob = \"{abscal_model_glob}\"')"
   ]
  },
  {
   "cell_type": "code",
   "execution_count": 4,
   "metadata": {
    "ExecuteTime": {
     "end_time": "2020-12-05T00:18:04.461524Z",
     "start_time": "2020-12-05T00:18:04.350753Z"
    },
    "scrolled": true
   },
   "outputs": [
    {
     "name": "stdout",
     "output_type": "stream",
     "text": [
      "Looking for data in /lustre/aoc/projects/hera/H1C_IDR3/IDR3_2/2458070 on JD 2458070\n",
      "...found 73 data files.\n",
      "...found 73 abscal files.\n",
      "...found 73 smooth_cal files.\n"
     ]
    }
   ],
   "source": [
    "print('Looking for data in', data_path, 'on JD', JD)\n",
    "data_list = sorted(glob.glob(os.path.join(data_path, f'zen.{JD}.?????.sum.uvh5')))\n",
    "if len(data_list) == 0:\n",
    "    data_list = sorted(glob.glob(os.path.join(data_path, f'zen.{JD}.?????.uvh5')))\n",
    "print('...found {} data files.'.format(len(data_list)))\n",
    "\n",
    "abscal_list = sorted(glob.glob(os.path.join(data_path, f'zen.{JD}.*.abs.calfits')))\n",
    "print('...found {} abscal files.'.format(len(abscal_list)))\n",
    "\n",
    "smooth_cal_list = sorted(glob.glob(os.path.join(data_path, f'zen.{JD}.*.sum.smooth_abs.calfits')))\n",
    "print('...found {} smooth_cal files.'.format(len(smooth_cal_list)))"
   ]
  },
  {
   "cell_type": "code",
   "execution_count": 5,
   "metadata": {
    "ExecuteTime": {
     "end_time": "2020-12-05T00:18:10.635561Z",
     "start_time": "2020-12-05T00:18:04.463244Z"
    }
   },
   "outputs": [
    {
     "name": "stderr",
     "output_type": "stream",
     "text": [
      "/lustre/aoc/projects/hera/heramgr/anaconda2/envs/h1c_idr3/lib/python3.7/site-packages/numpy/core/_asarray.py:83: VisibleDeprecationWarning: Creating an ndarray from ragged nested sequences (which is a list-or-tuple of lists-or-tuples-or ndarrays with different lengths or shapes) is deprecated. If you meant to do this, you must specify 'dtype=object' when creating the ndarray\n",
      "  return array(a, dtype, copy=False, order=order)\n"
     ]
    },
    {
     "ename": "ValueError",
     "evalue": "setting an array element with a sequence.",
     "output_type": "error",
     "traceback": [
      "\u001b[0;31m---------------------------------------------------------------------------\u001b[0m",
      "\u001b[0;31mValueError\u001b[0m                                Traceback (most recent call last)",
      "\u001b[0;31mValueError\u001b[0m: The truth value of an array with more than one element is ambiguous. Use a.any() or a.all()",
      "\nThe above exception was the direct cause of the following exception:\n",
      "\u001b[0;31mValueError\u001b[0m                                Traceback (most recent call last)",
      "\u001b[0;32m<ipython-input-5-c91cfb190f7a>\u001b[0m in \u001b[0;36m<module>\u001b[0;34m\u001b[0m\n\u001b[1;32m      9\u001b[0m \u001b[0;31m# get times that are blacklisted and reshape them like file_time_arrays\u001b[0m\u001b[0;34m\u001b[0m\u001b[0;34m\u001b[0m\u001b[0;34m\u001b[0m\u001b[0m\n\u001b[1;32m     10\u001b[0m \u001b[0mtime_blacklisted_flat\u001b[0m \u001b[0;34m=\u001b[0m \u001b[0mbuild_time_blacklist\u001b[0m\u001b[0;34m(\u001b[0m\u001b[0mnp\u001b[0m\u001b[0;34m.\u001b[0m\u001b[0mhstack\u001b[0m\u001b[0;34m(\u001b[0m\u001b[0mfile_time_arrays\u001b[0m\u001b[0;34m)\u001b[0m\u001b[0;34m,\u001b[0m \u001b[0mlst_blacklists\u001b[0m\u001b[0;34m=\u001b[0m\u001b[0mlst_blacklists\u001b[0m\u001b[0;34m)\u001b[0m\u001b[0;34m\u001b[0m\u001b[0;34m\u001b[0m\u001b[0m\n\u001b[0;32m---> 11\u001b[0;31m \u001b[0mtime_blacklisted\u001b[0m \u001b[0;34m=\u001b[0m \u001b[0mdeepcopy\u001b[0m\u001b[0;34m(\u001b[0m\u001b[0mfile_time_arrays\u001b[0m\u001b[0;34m)\u001b[0m\u001b[0;34m.\u001b[0m\u001b[0mastype\u001b[0m\u001b[0;34m(\u001b[0m\u001b[0mbool\u001b[0m\u001b[0;34m)\u001b[0m\u001b[0;34m\u001b[0m\u001b[0;34m\u001b[0m\u001b[0m\n\u001b[0m\u001b[1;32m     12\u001b[0m \u001b[0mn\u001b[0m \u001b[0;34m=\u001b[0m \u001b[0;36m0\u001b[0m\u001b[0;34m\u001b[0m\u001b[0;34m\u001b[0m\u001b[0m\n\u001b[1;32m     13\u001b[0m \u001b[0;32mfor\u001b[0m \u001b[0mi\u001b[0m \u001b[0;32min\u001b[0m \u001b[0mrange\u001b[0m\u001b[0;34m(\u001b[0m\u001b[0mlen\u001b[0m\u001b[0;34m(\u001b[0m\u001b[0mfile_time_arrays\u001b[0m\u001b[0;34m)\u001b[0m\u001b[0;34m)\u001b[0m\u001b[0;34m:\u001b[0m\u001b[0;34m\u001b[0m\u001b[0;34m\u001b[0m\u001b[0m\n",
      "\u001b[0;31mValueError\u001b[0m: setting an array element with a sequence."
     ]
    }
   ],
   "source": [
    "# get all JDs and LSTs\n",
    "_, _, file_lst_arrays, file_time_arrays = io.get_file_times(data_list)\n",
    "# parse lst_blacklist_string\n",
    "lst_blacklists = []\n",
    "if len(lst_blacklist_string) > 0:\n",
    "    lst_blacklists = [tuple([float(arg) for arg in arg_pair.split('-', maxsplit=1)]) \n",
    "                      for arg_pair in lst_blacklist_string.split(' ')]\n",
    "\n",
    "# get times that are blacklisted and reshape them like file_time_arrays\n",
    "time_blacklisted_flat = build_time_blacklist(np.hstack(file_time_arrays), lst_blacklists=lst_blacklists)\n",
    "time_blacklisted = deepcopy(file_time_arrays).astype(bool)\n",
    "n = 0\n",
    "for i in range(len(file_time_arrays)):\n",
    "    time_blacklisted[i] = np.zeros_like(time_blacklisted[i], dtype=bool)\n",
    "    for j in range(len(file_time_arrays[i])):\n",
    "        time_blacklisted[i][j] = time_blacklisted_flat[n]\n",
    "        n += 1\n",
    "\n",
    "# pick the central time from among the not-LST blacklisted files, if possible\n",
    "good_indices = [i for i, tb in enumerate(time_blacklisted) if not np.any(tb)]\n",
    "if len(good_indices) > 0:\n",
    "    file_index = good_indices[len(good_indices)//2]\n",
    "else:\n",
    "    file_index = len(data_list)//2\n",
    "file_JD = '.'.join([s for s in data_list[file_index].split('.') if s.isdigit()])    "
   ]
  },
  {
   "cell_type": "code",
   "execution_count": 6,
   "metadata": {
    "ExecuteTime": {
     "end_time": "2020-12-05T00:18:40.181865Z",
     "start_time": "2020-12-05T00:18:10.638503Z"
    }
   },
   "outputs": [
    {
     "ename": "NameError",
     "evalue": "name 'file_index' is not defined",
     "output_type": "error",
     "traceback": [
      "\u001b[0;31m---------------------------------------------------------------------------\u001b[0m",
      "\u001b[0;31mNameError\u001b[0m                                 Traceback (most recent call last)",
      "\u001b[0;32m<ipython-input-6-e7440030cf66>\u001b[0m in \u001b[0;36m<module>\u001b[0;34m\u001b[0m\n\u001b[1;32m      1\u001b[0m \u001b[0;31m# Load abscal gains\u001b[0m\u001b[0;34m\u001b[0m\u001b[0;34m\u001b[0m\u001b[0;34m\u001b[0m\u001b[0m\n\u001b[0;32m----> 2\u001b[0;31m \u001b[0mhca\u001b[0m \u001b[0;34m=\u001b[0m \u001b[0mio\u001b[0m\u001b[0;34m.\u001b[0m\u001b[0mHERACal\u001b[0m\u001b[0;34m(\u001b[0m\u001b[0mabscal_list\u001b[0m\u001b[0;34m[\u001b[0m\u001b[0mfile_index\u001b[0m\u001b[0;34m]\u001b[0m\u001b[0;34m)\u001b[0m\u001b[0;34m\u001b[0m\u001b[0;34m\u001b[0m\u001b[0m\n\u001b[0m\u001b[1;32m      3\u001b[0m \u001b[0mga\u001b[0m\u001b[0;34m,\u001b[0m \u001b[0mgaf\u001b[0m\u001b[0;34m,\u001b[0m \u001b[0m_\u001b[0m\u001b[0;34m,\u001b[0m \u001b[0m_\u001b[0m \u001b[0;34m=\u001b[0m \u001b[0mhca\u001b[0m\u001b[0;34m.\u001b[0m\u001b[0mread\u001b[0m\u001b[0;34m(\u001b[0m\u001b[0;34m)\u001b[0m\u001b[0;34m\u001b[0m\u001b[0;34m\u001b[0m\u001b[0m\n\u001b[1;32m      4\u001b[0m \u001b[0;34m\u001b[0m\u001b[0m\n\u001b[1;32m      5\u001b[0m \u001b[0;31m# Get min_bl_cut, we only want to compare baselines actually used in absolute calibration\u001b[0m\u001b[0;34m\u001b[0m\u001b[0;34m\u001b[0m\u001b[0;34m\u001b[0m\u001b[0m\n",
      "\u001b[0;31mNameError\u001b[0m: name 'file_index' is not defined"
     ]
    }
   ],
   "source": [
    "# Load abscal gains\n",
    "hca = io.HERACal(abscal_list[file_index])\n",
    "ga, gaf, _, _ = hca.read()\n",
    "\n",
    "# Get min_bl_cut, we only want to compare baselines actually used in absolute calibration\n",
    "try:\n",
    "    min_bl_cut = float(hca.history.replace('\\n','').split('--min_bl_cut')[-1].split('--')[0].strip())\n",
    "except:\n",
    "    print('Could not find min_bl_cut, setting to 1 m.')\n",
    "    min_bl_cut = 1.0\n",
    "\n",
    "# Load the most common redundant baseline longer than min_bl_cut\n",
    "hd = io.HERAData(data_list[file_index])\n",
    "bls_to_plot = []\n",
    "for pol in ['ee', 'nn']:\n",
    "    reds = redcal.get_reds(hd.antpos, pols=[pol])\n",
    "    reds = sorted(reds, key=len, reverse=True)\n",
    "    bl_lens = np.array([np.linalg.norm(hd.antpos[red[0][1]] - hd.antpos[red[0][0]]) for red in reds])\n",
    "    try:\n",
    "        bl_group_to_plot = (np.array(reds)[bl_lens >= min_bl_cut])[0]\n",
    "    except:\n",
    "        bl_group_to_plot = reds[0]\n",
    "    bls_to_plot.extend(bl_group_to_plot)\n",
    "    \n",
    "# Load smooth_cal gains and determine ex_ants\n",
    "hc = io.HERACal(smooth_cal_list[file_index])\n",
    "gains, gain_flags, _, _ = hc.read()\n",
    "ex_ants = [ant for ant in gain_flags if np.all(gain_flags[ant])]    \n",
    "\n",
    "# Load data and calibrate\n",
    "data, flags, nsamples = hd.read(bls=bls_to_plot)\n",
    "sc_data, sc_flags = deepcopy(data), deepcopy(flags)\n",
    "ac_data, ac_flags = deepcopy(data), deepcopy(flags)\n",
    "apply_cal.calibrate_in_place(sc_data, gains, data_flags=sc_flags, cal_flags=gain_flags)\n",
    "apply_cal.calibrate_in_place(ac_data, ga, data_flags=ac_flags, cal_flags=gaf)"
   ]
  },
  {
   "cell_type": "code",
   "execution_count": 7,
   "metadata": {
    "ExecuteTime": {
     "end_time": "2020-12-05T00:18:40.846880Z",
     "start_time": "2020-12-05T00:18:40.183975Z"
    }
   },
   "outputs": [
    {
     "ename": "NameError",
     "evalue": "name 'hd' is not defined",
     "output_type": "error",
     "traceback": [
      "\u001b[0;31m---------------------------------------------------------------------------\u001b[0m",
      "\u001b[0;31mNameError\u001b[0m                                 Traceback (most recent call last)",
      "\u001b[0;32m<ipython-input-7-3d3f12463aec>\u001b[0m in \u001b[0;36m<module>\u001b[0;34m\u001b[0m\n\u001b[1;32m      1\u001b[0m \u001b[0mplt\u001b[0m\u001b[0;34m.\u001b[0m\u001b[0mfigure\u001b[0m\u001b[0;34m(\u001b[0m\u001b[0mfigsize\u001b[0m\u001b[0;34m=\u001b[0m\u001b[0;34m(\u001b[0m\u001b[0;36m8\u001b[0m\u001b[0;34m,\u001b[0m\u001b[0;36m8\u001b[0m\u001b[0;34m)\u001b[0m\u001b[0;34m)\u001b[0m\u001b[0;34m\u001b[0m\u001b[0;34m\u001b[0m\u001b[0m\n\u001b[0;32m----> 2\u001b[0;31m plt.scatter(np.array(list(hd.antpos.values()))[:,0], \n\u001b[0m\u001b[1;32m      3\u001b[0m             np.array(list(hd.antpos.values()))[:,1], c='w', s=0)\n\u001b[1;32m      4\u001b[0m \u001b[0;32mfor\u001b[0m \u001b[0mant\u001b[0m\u001b[0;34m,\u001b[0m\u001b[0mpos\u001b[0m \u001b[0;32min\u001b[0m \u001b[0mhd\u001b[0m\u001b[0;34m.\u001b[0m\u001b[0mantpos\u001b[0m\u001b[0;34m.\u001b[0m\u001b[0mitems\u001b[0m\u001b[0;34m(\u001b[0m\u001b[0;34m)\u001b[0m\u001b[0;34m:\u001b[0m\u001b[0;34m\u001b[0m\u001b[0;34m\u001b[0m\u001b[0m\n\u001b[1;32m      5\u001b[0m     \u001b[0mbad\u001b[0m \u001b[0;34m=\u001b[0m \u001b[0mant\u001b[0m \u001b[0;32min\u001b[0m \u001b[0;34m[\u001b[0m\u001b[0mant\u001b[0m\u001b[0;34m[\u001b[0m\u001b[0;36m0\u001b[0m\u001b[0;34m]\u001b[0m \u001b[0;32mfor\u001b[0m \u001b[0mant\u001b[0m \u001b[0;32min\u001b[0m \u001b[0mex_ants\u001b[0m\u001b[0;34m]\u001b[0m\u001b[0;34m\u001b[0m\u001b[0;34m\u001b[0m\u001b[0m\n",
      "\u001b[0;31mNameError\u001b[0m: name 'hd' is not defined"
     ]
    },
    {
     "data": {
      "text/plain": [
       "<Figure size 576x576 with 0 Axes>"
      ]
     },
     "metadata": {},
     "output_type": "display_data"
    }
   ],
   "source": [
    "plt.figure(figsize=(8,8))\n",
    "plt.scatter(np.array(list(hd.antpos.values()))[:,0], \n",
    "            np.array(list(hd.antpos.values()))[:,1], c='w', s=0)\n",
    "for ant,pos in hd.antpos.items():\n",
    "    bad = ant in [ant[0] for ant in ex_ants]\n",
    "    plt.gca().add_artist(plt.Circle(tuple(pos[0:2]), radius=7, \n",
    "                                    fill=(~bad), color=['grey','r'][bad]))\n",
    "    plt.text(pos[0],pos[1],str(ant), va='center', ha='center', color='w')\n",
    "plt.xlabel(\"Antenna East-West Position (meters)\")\n",
    "plt.ylabel(\"Antenna North-South Position (meters)\")\n",
    "plt.title('Antenna Positions on {} (Red = Flagged)'.format(file_JD));\n",
    "plt.axis('equal')\n",
    "plt.tight_layout()\n",
    "plt.show()"
   ]
  },
  {
   "cell_type": "markdown",
   "metadata": {},
   "source": [
    "### Figure 1: Array and Flagged Antennas\n",
    "\n",
    "#### OBSERVER CHECKLIST:\n",
    "* Check that the array configuration looks reasonable.\n",
    "* Check that all flags expected to be flagged are actually flagged but also that not everything is getting flagged."
   ]
  },
  {
   "cell_type": "code",
   "execution_count": 8,
   "metadata": {
    "ExecuteTime": {
     "end_time": "2020-12-05T00:20:01.482851Z",
     "start_time": "2020-12-05T00:18:40.849157Z"
    }
   },
   "outputs": [
    {
     "ename": "NameError",
     "evalue": "name 'hc' is not defined",
     "output_type": "error",
     "traceback": [
      "\u001b[0;31m---------------------------------------------------------------------------\u001b[0m",
      "\u001b[0;31mNameError\u001b[0m                                 Traceback (most recent call last)",
      "\u001b[0;32m<ipython-input-8-5e6ee119cf75>\u001b[0m in \u001b[0;36m<module>\u001b[0;34m\u001b[0m\n\u001b[1;32m      1\u001b[0m \u001b[0;31m#check whether the model is redudnant by looking at the history\u001b[0m\u001b[0;34m\u001b[0m\u001b[0;34m\u001b[0m\u001b[0;34m\u001b[0m\u001b[0m\n\u001b[0;32m----> 2\u001b[0;31m \u001b[0mmodel_is_redundant\u001b[0m \u001b[0;34m=\u001b[0m \u001b[0;34m(\u001b[0m\u001b[0;34m'--model_is_redundant'\u001b[0m \u001b[0;32min\u001b[0m \u001b[0;34m\"\"\u001b[0m\u001b[0;34m.\u001b[0m\u001b[0mjoin\u001b[0m\u001b[0;34m(\u001b[0m\u001b[0mhc\u001b[0m\u001b[0;34m.\u001b[0m\u001b[0mhistory\u001b[0m\u001b[0;34m.\u001b[0m\u001b[0msplit\u001b[0m\u001b[0;34m(\u001b[0m\u001b[0;34m)\u001b[0m\u001b[0;34m)\u001b[0m\u001b[0;34m)\u001b[0m\u001b[0;34m\u001b[0m\u001b[0;34m\u001b[0m\u001b[0m\n\u001b[0m\u001b[1;32m      3\u001b[0m \u001b[0;34m\u001b[0m\u001b[0m\n\u001b[1;32m      4\u001b[0m \u001b[0;31m# Find files that overlap with this file\u001b[0m\u001b[0;34m\u001b[0m\u001b[0;34m\u001b[0m\u001b[0;34m\u001b[0m\u001b[0m\n\u001b[1;32m      5\u001b[0m abscal_matched_files = list(abscal.match_times(data_list[file_index], \n",
      "\u001b[0;31mNameError\u001b[0m: name 'hc' is not defined"
     ]
    }
   ],
   "source": [
    "#check whether the model is redudnant by looking at the history \n",
    "model_is_redundant = ('--model_is_redundant' in \"\".join(hc.history.split()))\n",
    "\n",
    "# Find files that overlap with this file\n",
    "abscal_matched_files = list(abscal.match_times(data_list[file_index], \n",
    "                                               sorted(glob.glob(abscal_model_glob)), \n",
    "                                               filetype='uvh5', atol=1e-5))\n",
    "hdm = io.HERAData(abscal_matched_files)\n",
    "\n",
    "# Get model baselines to load\n",
    "model_bls = hdm.bls\n",
    "model_antpos = hdm.antpos\n",
    "if isinstance(model_bls, dict):\n",
    "    model_bls = list(model_bls.values())[0]\n",
    "    model_antpos = {ant: pos for antpos in hdm.antpos.values() for ant, pos in antpos.items()}\n",
    "_, model_bl_to_load, data_to_model_bl_map =  abscal.match_baselines(bls_to_plot, model_bls, \n",
    "                                                                    hd.antpos, model_antpos=model_antpos, \n",
    "                                                                    model_is_redundant=model_is_redundant)\n",
    "model, model_flags, _ = hdm.read(bls=model_bl_to_load)\n",
    "\n",
    "# Rephase model at index of best match to mean LST in the data\n",
    "model_index = np.argmin(np.abs(model.lsts - np.mean(data.lsts)))\n",
    "model_blvecs = {bl: model.antpos[bl[0]] - model.antpos[bl[1]] for bl in model.keys()}\n",
    "utils.lst_rephase(model, model_blvecs, model.freqs, np.mean(data.lsts) - model.lsts[model_index],\n",
    "                  lat=hdm.telescope_location_lat_lon_alt_degrees[0], inplace=True)\n",
    "if not model_is_redundant:\n",
    "    model, _, _ = utils.red_average(model, flags=model_flags)"
   ]
  },
  {
   "cell_type": "code",
   "execution_count": 9,
   "metadata": {
    "ExecuteTime": {
     "end_time": "2020-12-05T00:20:05.145827Z",
     "start_time": "2020-12-05T00:20:01.485188Z"
    }
   },
   "outputs": [
    {
     "ename": "NameError",
     "evalue": "name 'ac_data' is not defined",
     "output_type": "error",
     "traceback": [
      "\u001b[0;31m---------------------------------------------------------------------------\u001b[0m",
      "\u001b[0;31mNameError\u001b[0m                                 Traceback (most recent call last)",
      "\u001b[0;32m<ipython-input-9-1df67878c416>\u001b[0m in \u001b[0;36m<module>\u001b[0;34m\u001b[0m\n\u001b[1;32m      6\u001b[0m             \u001b[0mplt\u001b[0m\u001b[0;34m.\u001b[0m\u001b[0mfigure\u001b[0m\u001b[0;34m(\u001b[0m\u001b[0mfigsize\u001b[0m\u001b[0;34m=\u001b[0m\u001b[0;34m(\u001b[0m\u001b[0;36m16\u001b[0m\u001b[0;34m,\u001b[0m\u001b[0;36m4\u001b[0m\u001b[0;34m)\u001b[0m\u001b[0;34m)\u001b[0m\u001b[0;34m\u001b[0m\u001b[0;34m\u001b[0m\u001b[0m\n\u001b[1;32m      7\u001b[0m \u001b[0;34m\u001b[0m\u001b[0m\n\u001b[0;32m----> 8\u001b[0;31m             for d, f, l, m in zip([ac_data, sc_data], \n\u001b[0m\u001b[1;32m      9\u001b[0m                                   \u001b[0;34m[\u001b[0m\u001b[0mac_flags\u001b[0m\u001b[0;34m,\u001b[0m \u001b[0msc_flags\u001b[0m\u001b[0;34m]\u001b[0m\u001b[0;34m,\u001b[0m\u001b[0;34m\u001b[0m\u001b[0;34m\u001b[0m\u001b[0m\n\u001b[1;32m     10\u001b[0m                                   \u001b[0;34m[\u001b[0m\u001b[0;34m'Abs Calibrated Data'\u001b[0m\u001b[0;34m,\u001b[0m \u001b[0;34m'Smooth Calibrated Data'\u001b[0m\u001b[0;34m]\u001b[0m\u001b[0;34m,\u001b[0m\u001b[0;34m\u001b[0m\u001b[0;34m\u001b[0m\u001b[0m\n",
      "\u001b[0;31mNameError\u001b[0m: name 'ac_data' is not defined"
     ]
    },
    {
     "data": {
      "text/plain": [
       "<Figure size 1152x288 with 0 Axes>"
      ]
     },
     "metadata": {},
     "output_type": "display_data"
    }
   ],
   "source": [
    "import warnings\n",
    "with warnings.catch_warnings():\n",
    "    warnings.filterwarnings('ignore', r'All-NaN (slice|axis) encountered')\n",
    "    for pol in ['ee', 'nn']:\n",
    "        for func, plot, ylabel in zip([np.abs, np.angle], [plt.semilogy, plt.plot], ['Amplitude (Jy)', 'Phase (Radians)']):\n",
    "            plt.figure(figsize=(16,4))        \n",
    "\n",
    "            for d, f, l, m in zip([ac_data, sc_data], \n",
    "                                  [ac_flags, sc_flags], \n",
    "                                  ['Abs Calibrated Data', 'Smooth Calibrated Data'],\n",
    "                                  ['r-', 'b.']):\n",
    "                to_avg = []\n",
    "                for bl in [k for k in bls_to_plot if k[2] == pol]:\n",
    "                    blvec = hd.antpos[bl[0]] - hd.antpos[bl[1]]\n",
    "                    to_avg.append(deepcopy(d[bl]))\n",
    "                    to_avg[-1][f[bl]] = np.nan + 1.0j * np.nan\n",
    "                to_plot = np.nanmedian(np.real(to_avg), axis=(0,1)) + 1.0j * np.nanmedian(np.imag(to_avg), axis=(0,1))\n",
    "                plot(hd.freqs/1e6, func(to_plot), m, label=l)\n",
    "\n",
    "            for bl in [k for k in model if k[2] == pol]:\n",
    "                plot(hd.freqs/1e6, func(model[bl][model_index]), 'k-', label='Abscal Model')\n",
    "            plt.xlabel('Frequency (MHz)')\n",
    "            plt.ylabel(ylabel)\n",
    "            plt.legend(loc='lower right')\n",
    "            plt.title('{}-Polarized, {:f} m East, {:f} m North Visibility on {}'.format(pol, blvec[0], blvec[1], file_JD))"
   ]
  },
  {
   "cell_type": "markdown",
   "metadata": {},
   "source": [
    "### Figure 2: Example redundant baseline average, both absolute calibrated and smoothed, compared to the Abscal Model\n",
    "\n",
    "\n",
    "#### OBSERVER CHECKLIST:\n",
    "* Check that the abscaled data and the smoothcaled data are reasonably consistent\n",
    "* Check that both match the abscal model fairly well."
   ]
  },
  {
   "cell_type": "markdown",
   "metadata": {},
   "source": [
    "# Load a whole day"
   ]
  },
  {
   "cell_type": "code",
   "execution_count": 10,
   "metadata": {
    "ExecuteTime": {
     "end_time": "2020-12-05T00:21:29.250708Z",
     "start_time": "2020-12-05T00:20:05.148295Z"
    }
   },
   "outputs": [
    {
     "name": "stderr",
     "output_type": "stream",
     "text": [
      "Creating an ndarray from ragged nested sequences (which is a list-or-tuple of lists-or-tuples-or ndarrays with different lengths or shapes) is deprecated. If you meant to do this, you must specify 'dtype=object' when creating the ndarray\n",
      "Creating an ndarray from ragged nested sequences (which is a list-or-tuple of lists-or-tuples-or ndarrays with different lengths or shapes) is deprecated. If you meant to do this, you must specify 'dtype=object' when creating the ndarray\n"
     ]
    }
   ],
   "source": [
    "# Load relative difference and flagging info from smooth_cal gains\n",
    "ant_flags_dict = {}\n",
    "avg_rel_diff_ee_dict = {}\n",
    "avg_rel_diff_nn_dict = {}\n",
    "rel_diff_med_dict = {}\n",
    "ants = set([])\n",
    "\n",
    "for cal in smooth_cal_list:\n",
    "    hc = io.HERACal(cal)\n",
    "    _, flags, rel_diff, avg_rel_diff = hc.read()\n",
    "    \n",
    "    ants |= set(flags.keys())\n",
    "    ant_flags_dict[cal] = {ant: np.all(flags[ant]) for ant in flags}\n",
    "    avg_rel_diff_ee_dict[cal] = avg_rel_diff['Jee']\n",
    "    avg_rel_diff_nn_dict[cal] = avg_rel_diff['Jnn']\n",
    "    rel_diff_med_dict[cal] = {ant: np.nanmedian(rel_diff[ant], axis=1) for ant in rel_diff}    \n",
    "\n",
    "all_flagged_dict = {ant: np.all([af[ant] for af in ant_flags_dict.values()]) for ant in ants}\n",
    "avg_rel_diff_ee = np.vstack(np.array(list(avg_rel_diff_ee_dict.values())))\n",
    "avg_rel_diff_nn = np.vstack(np.array(list(avg_rel_diff_nn_dict.values())))"
   ]
  },
  {
   "cell_type": "code",
   "execution_count": 11,
   "metadata": {
    "ExecuteTime": {
     "end_time": "2020-12-05T00:21:29.265132Z",
     "start_time": "2020-12-05T00:21:29.252734Z"
    }
   },
   "outputs": [],
   "source": [
    "# save middle-numbered ants with a minimal number of flags\n",
    "ants_to_save = {}\n",
    "ant_to_nflags_dict = {ant: np.sum([af[ant] for af in ant_flags_dict.values()]) for ant in ants}\n",
    "for pol in ['Jee', 'Jnn']:\n",
    "    min_flags = np.min([ant_to_nflags_dict[ant] for ant in ants if ant[1] == pol])\n",
    "    ant_candidates = sorted([ant for ant in ants if ant_to_nflags_dict[ant] == min_flags and ant[1] == pol])\n",
    "    Nac = len(ant_candidates)\n",
    "    ants_to_save[pol] = ant_candidates[(Nac // 2 - 1):(Nac // 2 + 1)]"
   ]
  },
  {
   "cell_type": "code",
   "execution_count": 12,
   "metadata": {
    "ExecuteTime": {
     "end_time": "2020-12-05T00:35:01.057320Z",
     "start_time": "2020-12-05T00:34:18.663738Z"
    }
   },
   "outputs": [
    {
     "ename": "NameError",
     "evalue": "name 'hd' is not defined",
     "output_type": "error",
     "traceback": [
      "\u001b[0;31m---------------------------------------------------------------------------\u001b[0m",
      "\u001b[0;31mNameError\u001b[0m                                 Traceback (most recent call last)",
      "\u001b[0;32m<ipython-input-12-44f77b0aed05>\u001b[0m in \u001b[0;36m<module>\u001b[0;34m\u001b[0m\n\u001b[1;32m     21\u001b[0m \u001b[0;31m# Organize gains/flags into grids\u001b[0m\u001b[0;34m\u001b[0m\u001b[0;34m\u001b[0m\u001b[0;34m\u001b[0m\u001b[0m\n\u001b[1;32m     22\u001b[0m \u001b[0mtimes\u001b[0m \u001b[0;34m=\u001b[0m \u001b[0mnp\u001b[0m\u001b[0;34m.\u001b[0m\u001b[0mhstack\u001b[0m\u001b[0;34m(\u001b[0m\u001b[0mlist\u001b[0m\u001b[0;34m(\u001b[0m\u001b[0mtimes_dict\u001b[0m\u001b[0;34m.\u001b[0m\u001b[0mvalues\u001b[0m\u001b[0;34m(\u001b[0m\u001b[0;34m)\u001b[0m\u001b[0;34m)\u001b[0m\u001b[0;34m)\u001b[0m\u001b[0;34m\u001b[0m\u001b[0;34m\u001b[0m\u001b[0m\n\u001b[0;32m---> 23\u001b[0;31m \u001b[0mlsts\u001b[0m \u001b[0;34m=\u001b[0m \u001b[0;36m12\u001b[0m \u001b[0;34m/\u001b[0m \u001b[0mnp\u001b[0m\u001b[0;34m.\u001b[0m\u001b[0mpi\u001b[0m \u001b[0;34m*\u001b[0m \u001b[0mpyuvdata\u001b[0m\u001b[0;34m.\u001b[0m\u001b[0mutils\u001b[0m\u001b[0;34m.\u001b[0m\u001b[0mget_lst_for_time\u001b[0m\u001b[0;34m(\u001b[0m\u001b[0mtimes\u001b[0m\u001b[0;34m,\u001b[0m \u001b[0;34m*\u001b[0m\u001b[0mhd\u001b[0m\u001b[0;34m.\u001b[0m\u001b[0mtelescope_location_lat_lon_alt_degrees\u001b[0m\u001b[0;34m)\u001b[0m\u001b[0;34m\u001b[0m\u001b[0;34m\u001b[0m\u001b[0m\n\u001b[0m\u001b[1;32m     24\u001b[0m sc_gains = {ant: np.vstack([sc_gain_dict[cal][ant] for cal in sc_gain_dict]) \n\u001b[1;32m     25\u001b[0m                  for pol in ants_to_save for ant in ants_to_save[pol]}    \n",
      "\u001b[0;31mNameError\u001b[0m: name 'hd' is not defined"
     ]
    }
   ],
   "source": [
    "# Load smooth_cal gains/flags\n",
    "times_dict = {}\n",
    "sc_gain_dict = {}\n",
    "sc_flag_dict = {}\n",
    "for cal in smooth_cal_list:\n",
    "    hc = io.HERACal(cal)\n",
    "    gains, flags, _, _ = hc.read()\n",
    "    times_dict[cal] = hc.times\n",
    "    sc_gain_dict[cal] = {ant: gains[ant] for pol in ants_to_save for ant in ants_to_save[pol]}\n",
    "    sc_flag_dict[cal] = {ant: flags[ant] for pol in ants_to_save for ant in ants_to_save[pol]}\n",
    "\n",
    "# Load abscal gains/flags\n",
    "ac_gain_dict = {}\n",
    "ac_flag_dict = {}\n",
    "for cal in abscal_list:\n",
    "    hc = io.HERACal(cal)\n",
    "    gains, flags, _, _ = hc.read()\n",
    "    ac_gain_dict[cal] = {ant: gains[ant] for pol in ants_to_save for ant in ants_to_save[pol]}\n",
    "    ac_flag_dict[cal] = {ant: flags[ant] for pol in ants_to_save for ant in ants_to_save[pol]}    \n",
    "\n",
    "# Organize gains/flags into grids\n",
    "times = np.hstack(list(times_dict.values()))\n",
    "lsts = 12 / np.pi * pyuvdata.utils.get_lst_for_time(times, *hd.telescope_location_lat_lon_alt_degrees)\n",
    "sc_gains = {ant: np.vstack([sc_gain_dict[cal][ant] for cal in sc_gain_dict]) \n",
    "                 for pol in ants_to_save for ant in ants_to_save[pol]}    \n",
    "sc_flags = {ant: np.vstack([sc_flag_dict[cal][ant] for cal in sc_flag_dict]) \n",
    "                 for pol in ants_to_save for ant in ants_to_save[pol]}    \n",
    "flag_mask = np.all([f for f in sc_flags.values()], axis=0)\n",
    "ac_gains = {ant: np.vstack([ac_gain_dict[cal][ant] for cal in ac_gain_dict]) \n",
    "                 for pol in ants_to_save for ant in ants_to_save[pol]}\n",
    "ac_flags = {ant: np.vstack([ac_flag_dict[cal][ant] for cal in ac_flag_dict]) \n",
    "                 for pol in ants_to_save for ant in ants_to_save[pol]}"
   ]
  },
  {
   "cell_type": "markdown",
   "metadata": {},
   "source": [
    "# Inspect a whole day"
   ]
  },
  {
   "cell_type": "code",
   "execution_count": 13,
   "metadata": {
    "ExecuteTime": {
     "end_time": "2020-12-05T00:28:00.300128Z",
     "start_time": "2020-12-05T00:28:00.272063Z"
    }
   },
   "outputs": [
    {
     "ename": "NameError",
     "evalue": "name 'time_blacklisted' is not defined",
     "output_type": "error",
     "traceback": [
      "\u001b[0;31m---------------------------------------------------------------------------\u001b[0m",
      "\u001b[0;31mNameError\u001b[0m                                 Traceback (most recent call last)",
      "\u001b[0;32m<ipython-input-13-d3a3e27bf918>\u001b[0m in \u001b[0;36m<module>\u001b[0;34m\u001b[0m\n\u001b[1;32m      2\u001b[0m \u001b[0mmy_cmap\u001b[0m \u001b[0;34m=\u001b[0m \u001b[0mcm\u001b[0m\u001b[0;34m.\u001b[0m\u001b[0mbinary\u001b[0m\u001b[0;34m\u001b[0m\u001b[0;34m\u001b[0m\u001b[0m\n\u001b[1;32m      3\u001b[0m \u001b[0mmy_cmap\u001b[0m\u001b[0;34m.\u001b[0m\u001b[0mset_under\u001b[0m\u001b[0;34m(\u001b[0m\u001b[0;34m'k'\u001b[0m\u001b[0;34m,\u001b[0m \u001b[0malpha\u001b[0m\u001b[0;34m=\u001b[0m\u001b[0;36m0\u001b[0m\u001b[0;34m)\u001b[0m\u001b[0;34m\u001b[0m\u001b[0;34m\u001b[0m\u001b[0m\n\u001b[0;32m----> 4\u001b[0;31m \u001b[0mblacklist\u001b[0m \u001b[0;34m=\u001b[0m \u001b[0mnp\u001b[0m\u001b[0;34m.\u001b[0m\u001b[0mones_like\u001b[0m\u001b[0;34m(\u001b[0m\u001b[0mavg_rel_diff_ee\u001b[0m\u001b[0;34m)\u001b[0m \u001b[0;34m*\u001b[0m \u001b[0mnp\u001b[0m\u001b[0;34m.\u001b[0m\u001b[0mhstack\u001b[0m\u001b[0;34m(\u001b[0m\u001b[0mtime_blacklisted\u001b[0m\u001b[0;34m)\u001b[0m\u001b[0;34m[\u001b[0m\u001b[0;34m:\u001b[0m\u001b[0;34m,\u001b[0m \u001b[0mnp\u001b[0m\u001b[0;34m.\u001b[0m\u001b[0mnewaxis\u001b[0m\u001b[0;34m]\u001b[0m\u001b[0;34m\u001b[0m\u001b[0;34m\u001b[0m\u001b[0m\n\u001b[0m",
      "\u001b[0;31mNameError\u001b[0m: name 'time_blacklisted' is not defined"
     ]
    }
   ],
   "source": [
    "# for overplotting blacklisted LSTs\n",
    "my_cmap = cm.binary\n",
    "my_cmap.set_under('k', alpha=0)\n",
    "blacklist = np.ones_like(avg_rel_diff_ee) * np.hstack(time_blacklisted)[:, np.newaxis]"
   ]
  },
  {
   "cell_type": "code",
   "execution_count": 14,
   "metadata": {
    "ExecuteTime": {
     "end_time": "2020-12-05T00:35:49.836311Z",
     "start_time": "2020-12-05T00:35:42.366471Z"
    }
   },
   "outputs": [
    {
     "ename": "NameError",
     "evalue": "name 'sc_gains' is not defined",
     "output_type": "error",
     "traceback": [
      "\u001b[0;31m---------------------------------------------------------------------------\u001b[0m",
      "\u001b[0;31mNameError\u001b[0m                                 Traceback (most recent call last)",
      "\u001b[0;32m<ipython-input-14-2e39ec317f3e>\u001b[0m in \u001b[0;36m<module>\u001b[0;34m\u001b[0m\n\u001b[1;32m      1\u001b[0m \u001b[0;31m# Pick vmax to not saturate 90% of the abscal gains\u001b[0m\u001b[0;34m\u001b[0m\u001b[0;34m\u001b[0m\u001b[0;34m\u001b[0m\u001b[0m\n\u001b[0;32m----> 2\u001b[0;31m \u001b[0mvmax\u001b[0m \u001b[0;34m=\u001b[0m \u001b[0mnp\u001b[0m\u001b[0;34m.\u001b[0m\u001b[0mmax\u001b[0m\u001b[0;34m(\u001b[0m\u001b[0;34m[\u001b[0m\u001b[0mnp\u001b[0m\u001b[0;34m.\u001b[0m\u001b[0mpercentile\u001b[0m\u001b[0;34m(\u001b[0m\u001b[0mnp\u001b[0m\u001b[0;34m.\u001b[0m\u001b[0mabs\u001b[0m\u001b[0;34m(\u001b[0m\u001b[0msc_gains\u001b[0m\u001b[0;34m[\u001b[0m\u001b[0mants_to_save\u001b[0m\u001b[0;34m[\u001b[0m\u001b[0mpol\u001b[0m\u001b[0;34m]\u001b[0m\u001b[0;34m[\u001b[0m\u001b[0;36m1\u001b[0m\u001b[0;34m]\u001b[0m\u001b[0;34m]\u001b[0m\u001b[0;34m[\u001b[0m\u001b[0;34m~\u001b[0m\u001b[0mflag_mask\u001b[0m\u001b[0;34m]\u001b[0m\u001b[0;34m)\u001b[0m\u001b[0;34m,\u001b[0m \u001b[0;36m99\u001b[0m\u001b[0;34m)\u001b[0m \u001b[0;32mfor\u001b[0m \u001b[0mpol\u001b[0m \u001b[0;32min\u001b[0m \u001b[0;34m[\u001b[0m\u001b[0;34m'Jee'\u001b[0m\u001b[0;34m,\u001b[0m \u001b[0;34m'Jnn'\u001b[0m\u001b[0;34m]\u001b[0m\u001b[0;34m]\u001b[0m\u001b[0;34m)\u001b[0m\u001b[0;34m\u001b[0m\u001b[0;34m\u001b[0m\u001b[0m\n\u001b[0m\u001b[1;32m      3\u001b[0m \u001b[0;34m\u001b[0m\u001b[0m\n\u001b[1;32m      4\u001b[0m \u001b[0;31m# Plot abscal gain amplitude waterfalls for a single antenna\u001b[0m\u001b[0;34m\u001b[0m\u001b[0;34m\u001b[0m\u001b[0;34m\u001b[0m\u001b[0m\n\u001b[1;32m      5\u001b[0m \u001b[0mfig\u001b[0m\u001b[0;34m,\u001b[0m \u001b[0maxes\u001b[0m \u001b[0;34m=\u001b[0m \u001b[0mplt\u001b[0m\u001b[0;34m.\u001b[0m\u001b[0msubplots\u001b[0m\u001b[0;34m(\u001b[0m\u001b[0;36m4\u001b[0m\u001b[0;34m,\u001b[0m \u001b[0;36m2\u001b[0m\u001b[0;34m,\u001b[0m \u001b[0mfigsize\u001b[0m\u001b[0;34m=\u001b[0m\u001b[0;34m(\u001b[0m\u001b[0;36m16\u001b[0m\u001b[0;34m,\u001b[0m\u001b[0;36m16\u001b[0m\u001b[0;34m)\u001b[0m\u001b[0;34m,\u001b[0m \u001b[0mgridspec_kw\u001b[0m\u001b[0;34m=\u001b[0m\u001b[0;34m{\u001b[0m\u001b[0;34m'height_ratios'\u001b[0m\u001b[0;34m:\u001b[0m \u001b[0;34m[\u001b[0m\u001b[0;36m1\u001b[0m\u001b[0;34m,\u001b[0m \u001b[0;36m.25\u001b[0m\u001b[0;34m,\u001b[0m \u001b[0;36m.25\u001b[0m\u001b[0;34m,\u001b[0m \u001b[0;36m1\u001b[0m\u001b[0;34m]\u001b[0m\u001b[0;34m}\u001b[0m\u001b[0;34m)\u001b[0m\u001b[0;34m\u001b[0m\u001b[0;34m\u001b[0m\u001b[0m\n",
      "\u001b[0;32m<ipython-input-14-2e39ec317f3e>\u001b[0m in \u001b[0;36m<listcomp>\u001b[0;34m(.0)\u001b[0m\n\u001b[1;32m      1\u001b[0m \u001b[0;31m# Pick vmax to not saturate 90% of the abscal gains\u001b[0m\u001b[0;34m\u001b[0m\u001b[0;34m\u001b[0m\u001b[0;34m\u001b[0m\u001b[0m\n\u001b[0;32m----> 2\u001b[0;31m \u001b[0mvmax\u001b[0m \u001b[0;34m=\u001b[0m \u001b[0mnp\u001b[0m\u001b[0;34m.\u001b[0m\u001b[0mmax\u001b[0m\u001b[0;34m(\u001b[0m\u001b[0;34m[\u001b[0m\u001b[0mnp\u001b[0m\u001b[0;34m.\u001b[0m\u001b[0mpercentile\u001b[0m\u001b[0;34m(\u001b[0m\u001b[0mnp\u001b[0m\u001b[0;34m.\u001b[0m\u001b[0mabs\u001b[0m\u001b[0;34m(\u001b[0m\u001b[0msc_gains\u001b[0m\u001b[0;34m[\u001b[0m\u001b[0mants_to_save\u001b[0m\u001b[0;34m[\u001b[0m\u001b[0mpol\u001b[0m\u001b[0;34m]\u001b[0m\u001b[0;34m[\u001b[0m\u001b[0;36m1\u001b[0m\u001b[0;34m]\u001b[0m\u001b[0;34m]\u001b[0m\u001b[0;34m[\u001b[0m\u001b[0;34m~\u001b[0m\u001b[0mflag_mask\u001b[0m\u001b[0;34m]\u001b[0m\u001b[0;34m)\u001b[0m\u001b[0;34m,\u001b[0m \u001b[0;36m99\u001b[0m\u001b[0;34m)\u001b[0m \u001b[0;32mfor\u001b[0m \u001b[0mpol\u001b[0m \u001b[0;32min\u001b[0m \u001b[0;34m[\u001b[0m\u001b[0;34m'Jee'\u001b[0m\u001b[0;34m,\u001b[0m \u001b[0;34m'Jnn'\u001b[0m\u001b[0;34m]\u001b[0m\u001b[0;34m]\u001b[0m\u001b[0;34m)\u001b[0m\u001b[0;34m\u001b[0m\u001b[0;34m\u001b[0m\u001b[0m\n\u001b[0m\u001b[1;32m      3\u001b[0m \u001b[0;34m\u001b[0m\u001b[0m\n\u001b[1;32m      4\u001b[0m \u001b[0;31m# Plot abscal gain amplitude waterfalls for a single antenna\u001b[0m\u001b[0;34m\u001b[0m\u001b[0;34m\u001b[0m\u001b[0;34m\u001b[0m\u001b[0m\n\u001b[1;32m      5\u001b[0m \u001b[0mfig\u001b[0m\u001b[0;34m,\u001b[0m \u001b[0maxes\u001b[0m \u001b[0;34m=\u001b[0m \u001b[0mplt\u001b[0m\u001b[0;34m.\u001b[0m\u001b[0msubplots\u001b[0m\u001b[0;34m(\u001b[0m\u001b[0;36m4\u001b[0m\u001b[0;34m,\u001b[0m \u001b[0;36m2\u001b[0m\u001b[0;34m,\u001b[0m \u001b[0mfigsize\u001b[0m\u001b[0;34m=\u001b[0m\u001b[0;34m(\u001b[0m\u001b[0;36m16\u001b[0m\u001b[0;34m,\u001b[0m\u001b[0;36m16\u001b[0m\u001b[0;34m)\u001b[0m\u001b[0;34m,\u001b[0m \u001b[0mgridspec_kw\u001b[0m\u001b[0;34m=\u001b[0m\u001b[0;34m{\u001b[0m\u001b[0;34m'height_ratios'\u001b[0m\u001b[0;34m:\u001b[0m \u001b[0;34m[\u001b[0m\u001b[0;36m1\u001b[0m\u001b[0;34m,\u001b[0m \u001b[0;36m.25\u001b[0m\u001b[0;34m,\u001b[0m \u001b[0;36m.25\u001b[0m\u001b[0;34m,\u001b[0m \u001b[0;36m1\u001b[0m\u001b[0;34m]\u001b[0m\u001b[0;34m}\u001b[0m\u001b[0;34m)\u001b[0m\u001b[0;34m\u001b[0m\u001b[0;34m\u001b[0m\u001b[0m\n",
      "\u001b[0;31mNameError\u001b[0m: name 'sc_gains' is not defined"
     ]
    }
   ],
   "source": [
    "# Pick vmax to not saturate 90% of the abscal gains\n",
    "vmax = np.max([np.percentile(np.abs(sc_gains[ants_to_save[pol][1]][~flag_mask]), 99) for pol in ['Jee', 'Jnn']])\n",
    "\n",
    "# Plot abscal gain amplitude waterfalls for a single antenna\n",
    "fig, axes = plt.subplots(4, 2, figsize=(16,16), gridspec_kw={'height_ratios': [1, .25, .25, 1]})\n",
    "for ax, pol in zip(axes[0], ['Jee', 'Jnn']):\n",
    "    ant = ants_to_save[pol][1]\n",
    "    extent=[hd.freqs[0]/1e6, hd.freqs[-1]/1e6, times[-1], times[0]]\n",
    "    im = ax.imshow(np.abs(sc_gains[ant]) / ~sc_flags[ant], aspect='auto', cmap='inferno', \n",
    "                   interpolation='nearest', vmin=0, vmax=vmax, extent=extent)\n",
    "    ax.imshow(blacklist, aspect='auto', cmap=my_cmap, interpolation=None, clim=[0.9, 1], alpha=.25, extent=extent)\n",
    "    ax.set_title(f'Smoothcal Gain Amplitude of Antenna {ant[0]}: {pol[1:]}-polarized' )\n",
    "    ax.set_xlabel('Frequency (MHz)')\n",
    "    ax.set_ylabel('LST (Hours)')\n",
    "    ax.set_xlim([hd.freqs[0]/1e6, hd.freqs[-1]/1e6])\n",
    "    ax.set_yticklabels(np.around(lsts[[min(max(np.searchsorted(times, t), 0), len(times) - 1) for t in ax.get_yticks()]], 2))    \n",
    "    plt.colorbar(im, ax=ax,  orientation='horizontal', pad=.1)\n",
    "\n",
    "# Now plot median gain spectra \n",
    "for ax, pol in zip(axes[1], ['Jee', 'Jnn']):\n",
    "    ant = ants_to_save[pol][1]\n",
    "    # plot abscal\n",
    "    to_med = deepcopy(np.abs(ac_gains[ant]))\n",
    "    to_med[sc_flags[ant]] = np.nan  \n",
    "    if not np.all(np.hstack(time_blacklisted)):\n",
    "        ax.plot(hd.freqs / 1e6, np.nanmedian(to_med[~np.hstack(time_blacklisted), :], axis=0), 'r.', label='Abscal')    \n",
    "\n",
    "    # plot smooth_cal\n",
    "    to_med = deepcopy(np.abs(sc_gains[ant]))\n",
    "    to_med[sc_flags[ant]] = np.nan  \n",
    "    if not np.all(np.hstack(time_blacklisted)):\n",
    "        ax.plot(hd.freqs / 1e6, np.nanmedian(to_med[~np.hstack(time_blacklisted), :], axis=0), 'k.', ms=2, label='Smoothcal')\n",
    "    \n",
    "    ax.set_ylim([0, vmax])\n",
    "    ax.set_xlim([hd.freqs[0]/1e6, hd.freqs[-1]/1e6])    \n",
    "    ax.set_xlabel('Frequency (MHz)')\n",
    "    ax.set_ylabel('|g| (unitless)')\n",
    "    ax.set_title(f'Median Non-Blacklisted or Flagged Gain Amplitude Spectrum of Antenna {ant[0]}: {pol[1:]}-polarized')\n",
    "    ax.legend()\n",
    "\n",
    "# Now plot median gain time series\n",
    "for ax, pol in zip(axes[2], ['Jee', 'Jnn']):\n",
    "    ant = ants_to_save[pol][1]\n",
    "    to_med = deepcopy(np.abs(ac_gains[ant]))\n",
    "    to_med[:, np.all(sc_flags[ant], axis=0)] = np.nan  \n",
    "    # plot abscal\n",
    "    if not np.all(np.hstack(time_blacklisted)):\n",
    "        ax.plot(lsts[~np.hstack(time_blacklisted)], \n",
    "                np.nanmedian(to_med[~np.hstack(time_blacklisted), :], axis=1), \n",
    "                'b.', label='Abscal: Not Blacklisted LSTs')\n",
    "    if np.any(np.hstack(time_blacklisted)):\n",
    "        ax.plot(lsts[np.hstack(time_blacklisted)], \n",
    "                np.nanmedian(to_med[np.hstack(time_blacklisted), :], axis=1), \n",
    "                'r.', label='Abscal: Blacklisted LSTs')\n",
    "\n",
    "    # plot smooth_cal\n",
    "    to_med = deepcopy(np.abs(sc_gains[ant]))\n",
    "    to_med[:, np.all(sc_flags[ant], axis=0)] = np.nan\n",
    "    ax.plot(lsts, np.nanmedian(to_med, axis=1),'k.', ms=2, label='Smoothcal')    \n",
    "        \n",
    "    ax.set_ylim([0, vmax])\n",
    "    ax.set_xlabel('LST (hours)')\n",
    "    ax.set_ylabel('|g| (unitless)')\n",
    "    ax.set_title(f'Median Over Unflagged Channels Gain Amplitude Time-Series of Antenna {ant[0]}: {pol[1:]}-polarized')\n",
    "    ax.legend()\n",
    "    \n",
    "# Now flagged plot abscal waterfall    \n",
    "for ax, pol in zip(axes[3], ['Jee', 'Jnn']):\n",
    "    ant = ants_to_save[pol][1]\n",
    "    extent=[hd.freqs[0]/1e6, hd.freqs[-1]/1e6, times[-1], times[0]]\n",
    "    im = ax.imshow(np.abs(ac_gains[ant]) / ~sc_flags[ant], aspect='auto', cmap='inferno', \n",
    "                   interpolation='nearest', vmin=0, vmax=vmax, extent=extent)\n",
    "    ax.imshow(blacklist, aspect='auto', cmap=my_cmap, interpolation=None, clim=[0.9, 1], alpha=.25, extent=extent)\n",
    "    ax.set_title(f'Flagged Abscal Gain Amplitude of Antenna {ant[0]}: {pol[1:]}-polarized' )\n",
    "    ax.set_xlabel('Frequency (MHz)')\n",
    "    ax.set_ylabel('LST (Hours)')\n",
    "    ax.set_xlim([hd.freqs[0]/1e6, hd.freqs[-1]/1e6])\n",
    "    ax.set_yticklabels(np.around(lsts[[min(max(np.searchsorted(times, t), 0), len(times) - 1) for t in ax.get_yticks()]], 2))    \n",
    "    plt.colorbar(im, ax=ax,  orientation='horizontal', pad=.1)    \n",
    "\n",
    "plt.tight_layout()"
   ]
  },
  {
   "cell_type": "markdown",
   "metadata": {},
   "source": [
    "### Figure 3 Example Smoothing of Gain Amplitudes\n",
    "Smoothcal (top row) and Abscal (bottom row) gain amplitudes for an example antenna. In the waterfalls, grayed out regions are \"blacklisted,\" meaning they are not flagged but they are given zero weight when performing calibration smoothing. We also plot median non-blacklisted amplitudes as a function of frequency (second row) and the median amplitude as a function of time (third row) for both abscal and smoothcal.\n",
    "\n",
    "#### OBSERVER CHECKLIST:\n",
    "* Check that the smoothcal solution matches the abscal solution reasonably well in the non-blacklisted regions.\n",
    "* Check to see that the overall bandpass looks reasonable"
   ]
  },
  {
   "cell_type": "code",
   "execution_count": 15,
   "metadata": {
    "ExecuteTime": {
     "end_time": "2020-12-05T00:28:16.695457Z",
     "start_time": "2020-12-05T00:28:07.103641Z"
    },
    "scrolled": false
   },
   "outputs": [
    {
     "ename": "NameError",
     "evalue": "name 'hd' is not defined",
     "output_type": "error",
     "traceback": [
      "\u001b[0;31m---------------------------------------------------------------------------\u001b[0m",
      "\u001b[0;31mNameError\u001b[0m                                 Traceback (most recent call last)",
      "\u001b[0;32m<ipython-input-15-cad0982ba4f4>\u001b[0m in \u001b[0;36m<module>\u001b[0;34m\u001b[0m\n\u001b[1;32m      3\u001b[0m \u001b[0;32mfor\u001b[0m \u001b[0max\u001b[0m\u001b[0;34m,\u001b[0m \u001b[0mpol\u001b[0m \u001b[0;32min\u001b[0m \u001b[0mzip\u001b[0m\u001b[0;34m(\u001b[0m\u001b[0maxes\u001b[0m\u001b[0;34m[\u001b[0m\u001b[0;36m0\u001b[0m\u001b[0;34m]\u001b[0m\u001b[0;34m,\u001b[0m \u001b[0;34m[\u001b[0m\u001b[0;34m'Jee'\u001b[0m\u001b[0;34m,\u001b[0m \u001b[0;34m'Jnn'\u001b[0m\u001b[0;34m]\u001b[0m\u001b[0;34m)\u001b[0m\u001b[0;34m:\u001b[0m\u001b[0;34m\u001b[0m\u001b[0;34m\u001b[0m\u001b[0m\n\u001b[1;32m      4\u001b[0m     \u001b[0mant0\u001b[0m\u001b[0;34m,\u001b[0m \u001b[0mant1\u001b[0m \u001b[0;34m=\u001b[0m \u001b[0mants_to_save\u001b[0m\u001b[0;34m[\u001b[0m\u001b[0mpol\u001b[0m\u001b[0;34m]\u001b[0m\u001b[0;34m\u001b[0m\u001b[0;34m\u001b[0m\u001b[0m\n\u001b[0;32m----> 5\u001b[0;31m     \u001b[0mextent\u001b[0m\u001b[0;34m=\u001b[0m\u001b[0;34m[\u001b[0m\u001b[0mhd\u001b[0m\u001b[0;34m.\u001b[0m\u001b[0mfreqs\u001b[0m\u001b[0;34m[\u001b[0m\u001b[0;36m0\u001b[0m\u001b[0;34m]\u001b[0m\u001b[0;34m/\u001b[0m\u001b[0;36m1e6\u001b[0m\u001b[0;34m,\u001b[0m \u001b[0mhd\u001b[0m\u001b[0;34m.\u001b[0m\u001b[0mfreqs\u001b[0m\u001b[0;34m[\u001b[0m\u001b[0;34m-\u001b[0m\u001b[0;36m1\u001b[0m\u001b[0;34m]\u001b[0m\u001b[0;34m/\u001b[0m\u001b[0;36m1e6\u001b[0m\u001b[0;34m,\u001b[0m \u001b[0mtimes\u001b[0m\u001b[0;34m[\u001b[0m\u001b[0;34m-\u001b[0m\u001b[0;36m1\u001b[0m\u001b[0;34m]\u001b[0m\u001b[0;34m,\u001b[0m \u001b[0mtimes\u001b[0m\u001b[0;34m[\u001b[0m\u001b[0;36m0\u001b[0m\u001b[0;34m]\u001b[0m\u001b[0;34m]\u001b[0m\u001b[0;34m\u001b[0m\u001b[0;34m\u001b[0m\u001b[0m\n\u001b[0m\u001b[1;32m      6\u001b[0m     im = ax.imshow(np.angle(sc_gains[ant0] / sc_gains[ant1]) / ~sc_flags[ant0], aspect='auto', cmap='inferno', \n\u001b[1;32m      7\u001b[0m                    interpolation='nearest', vmin=-np.pi, vmax=np.pi, extent=extent)\n",
      "\u001b[0;31mNameError\u001b[0m: name 'hd' is not defined"
     ]
    },
    {
     "data": {
      "image/png": "[encoded data removed]",
      "text/plain": [
       "<Figure size 1152x1152 with 8 Axes>"
      ]
     },
     "metadata": {
      "image/png": {
       "height": 904,
       "width": 938
      },
      "needs_background": "light"
     },
     "output_type": "display_data"
    }
   ],
   "source": [
    "# Plot abscal gain amplitude waterfalls for a single antenna\n",
    "fig, axes = plt.subplots(4, 2, figsize=(16,16), gridspec_kw={'height_ratios': [1, .25, .25, 1]})\n",
    "for ax, pol in zip(axes[0], ['Jee', 'Jnn']):\n",
    "    ant0, ant1 = ants_to_save[pol]\n",
    "    extent=[hd.freqs[0]/1e6, hd.freqs[-1]/1e6, times[-1], times[0]]\n",
    "    im = ax.imshow(np.angle(sc_gains[ant0] / sc_gains[ant1]) / ~sc_flags[ant0], aspect='auto', cmap='inferno', \n",
    "                   interpolation='nearest', vmin=-np.pi, vmax=np.pi, extent=extent)\n",
    "    ax.imshow(blacklist, aspect='auto', cmap=my_cmap, interpolation=None, clim=[0.9, 1], alpha=.25, extent=extent)\n",
    "    ax.set_title(f'Smoothcal Gain Phase of Ant {ant0[0]} / Ant {ant1[0]}: {pol[1:]}-polarized')    \n",
    "    ax.set_xlabel('Frequency (MHz)')\n",
    "    ax.set_ylabel('LST (Hours)')\n",
    "    ax.set_xlim([hd.freqs[0]/1e6, hd.freqs[-1]/1e6])\n",
    "    ax.set_yticklabels(np.around(lsts[[min(max(np.searchsorted(times, t), 0), len(times) - 1) for t in ax.get_yticks()]], 2))\n",
    "    plt.colorbar(im, ax=ax,  orientation='horizontal', pad=.1)\n",
    "\n",
    "# Now plot median gain spectra \n",
    "for ax, pol in zip(axes[1], ['Jee', 'Jnn']):\n",
    "    ant0, ant1 = ants_to_save[pol]\n",
    "    \n",
    "    # plot abscal\n",
    "    to_med = deepcopy(ac_gains[ant0] / ac_gains[ant1])\n",
    "    to_med[sc_flags[ant0]] = np.nan + 1.0j * np.nan\n",
    "    if not np.all(np.hstack(time_blacklisted)):\n",
    "        med = 1.0j * np.nanmedian(to_med[~np.hstack(time_blacklisted), :].imag, axis=0)\n",
    "        med += np.nanmedian(to_med[~np.hstack(time_blacklisted), :].real, axis=0) \n",
    "        ax.plot(hd.freqs / 1e6, np.angle(med), 'r.', label='Abscal')\n",
    "\n",
    "    # plot smooth_cal\n",
    "    to_med = deepcopy(sc_gains[ant0] / sc_gains[ant1])\n",
    "    to_med[sc_flags[ant0]] = np.nan + 1.0j * np.nan\n",
    "    if not np.all(np.hstack(time_blacklisted)):\n",
    "        med = 1.0j * np.nanmedian(to_med[~np.hstack(time_blacklisted), :].imag, axis=0)\n",
    "        med += np.nanmedian(to_med[~np.hstack(time_blacklisted), :].real, axis=0) \n",
    "        ax.plot(hd.freqs / 1e6, np.angle(med), 'k.', ms=2, label='Smoothcal')\n",
    "\n",
    "    ax.set_ylim([-np.pi, np.pi])\n",
    "    ax.set_xlabel('Frequency (MHz)')\n",
    "    ax.set_ylabel(f'Phase of g$_{ant0[0]}$ / g$_{ant1[0]}$')\n",
    "    ax.set_title(f'Median Non-Blacklisted or Flagged Gain Phase Spectrum of Ant {ant0[0]} / Ant {ant1[0]}: {pol[1:]}-polarized')\n",
    "    ax.legend()\n",
    "\n",
    "# Now plot median gain time series\n",
    "for ax, pol in zip(axes[2], ['Jee', 'Jnn']):\n",
    "    ant = ants_to_save[pol][1]\n",
    "    to_med = deepcopy(np.abs(ac_gains[ant]))\n",
    "    to_med[:, np.all(sc_flags[ant], axis=0)] = np.nan  \n",
    "    \n",
    "    # plot abscal\n",
    "    to_med = deepcopy(ac_gains[ant0] / ac_gains[ant1])\n",
    "    to_med[:, np.all(sc_flags[ant], axis=0)] = np.nan + 1.0j * np.nan\n",
    "    if not np.all(np.hstack(time_blacklisted)):\n",
    "        med = 1.0j * np.nanmedian(to_med[~np.hstack(time_blacklisted), :].imag, axis=1)\n",
    "        med += np.nanmedian(to_med[~np.hstack(time_blacklisted), :].real, axis=1) \n",
    "        ax.plot(lsts[~np.hstack(time_blacklisted)], np.angle(med), 'b.', label='Abscal: Not Blacklisted LSTs')\n",
    "        \n",
    "    if np.any(np.hstack(time_blacklisted)):\n",
    "        med = 1.0j * np.nanmedian(to_med[np.hstack(time_blacklisted), :].imag, axis=1)\n",
    "        med += np.nanmedian(to_med[np.hstack(time_blacklisted), :].real, axis=1) \n",
    "        ax.plot(lsts[np.hstack(time_blacklisted)], np.angle(med), 'r.', label='Abscal: Blacklisted LSTs')        \n",
    "\n",
    "    # plot smooth_cal\n",
    "    to_med = deepcopy(sc_gains[ant0] / sc_gains[ant1])\n",
    "    to_med[:, np.all(sc_flags[ant], axis=0)] = np.nan + 1.0j * np.nan\n",
    "    med = 1.0j * np.nanmedian(to_med.imag, axis=1) +  np.nanmedian(to_med.real, axis=1) \n",
    "    ax.plot(lsts, np.angle(med), 'k.', ms=2, label='Smoothcal')        \n",
    "        \n",
    "    ax.set_ylim([-np.pi, np.pi])\n",
    "    ax.set_xlabel('LST (hours)')\n",
    "    ax.set_ylabel(f'Phase of g$_{ant0[0]}$ / g$_{ant1[0]}$')\n",
    "    ax.set_title(f'Median Non-Blacklisted or Flagged Gain Phase Spectrum of Ant {ant0[0]} / Ant {ant1[0]}: {pol[1:]}-polarized')\n",
    "    ax.legend()\n",
    "    \n",
    "# Now flagged plot abscal waterfall\n",
    "for ax, pol in zip(axes[3], ['Jee', 'Jnn']):\n",
    "    ant0, ant1 = ants_to_save[pol]\n",
    "    extent=[hd.freqs[0]/1e6, hd.freqs[-1]/1e6, times[-1], times[0]]\n",
    "    im = ax.imshow(np.angle(ac_gains[ant0] / ac_gains[ant1]) / ~sc_flags[ant], aspect='auto', cmap='inferno', \n",
    "                   interpolation='nearest', vmin=-np.pi, vmax=np.pi, extent=extent)\n",
    "    ax.imshow(blacklist, aspect='auto', cmap=my_cmap, interpolation=None, clim=[0.9, 1], alpha=.25, extent=extent)\n",
    "    ax.set_title(f'Flagged Abscal Gain Phase of Ant {ant0[0]} / Ant {ant1[0]}: {pol[1:]}-polarized')    \n",
    "    ax.set_xlabel('Frequency (MHz)')\n",
    "    ax.set_ylabel('LST (Hours)')   \n",
    "    ax.set_xlim([hd.freqs[0]/1e6, hd.freqs[-1]/1e6])    \n",
    "    ax.set_yticklabels(np.around(lsts[[min(max(np.searchsorted(times, t), 0), len(times) - 1) for t in ax.get_yticks()]], 2))\n",
    "    plt.colorbar(im, ax=ax,  orientation='horizontal', pad=.1)    \n",
    "\n",
    "plt.tight_layout()"
   ]
  },
  {
   "cell_type": "markdown",
   "metadata": {},
   "source": [
    "### Figure 4 Example Smoothing of Gain Phases\n",
    "Smoothcal (top row) and Abscal (bottom row) gain phases for an example antenna. In the waterfalls, grayed out regions are \"blacklisted,\" meaning they are not flagged but they are given zero weight when performing calibration smoothing. We also plot median non-blacklisted phases as a function of frequency (second row) and the median phases as a function of time (third row) for both abscal and smoothcal.\n",
    "\n",
    "#### OBSERVER CHECKLIST:\n",
    "* Check that the smoothcal solution matches the abscal solution reasonably well in the non-blacklisted regions.\n",
    "* Check to see that the final gain solution is reasonably approximated by a single time-independent delay (linear phase ramp in row 2)."
   ]
  },
  {
   "cell_type": "code",
   "execution_count": 16,
   "metadata": {
    "ExecuteTime": {
     "end_time": "2020-12-05T00:28:18.962425Z",
     "start_time": "2020-12-05T00:28:16.697238Z"
    },
    "scrolled": false
   },
   "outputs": [
    {
     "ename": "NameError",
     "evalue": "name 'hd' is not defined",
     "output_type": "error",
     "traceback": [
      "\u001b[0;31m---------------------------------------------------------------------------\u001b[0m",
      "\u001b[0;31mNameError\u001b[0m                                 Traceback (most recent call last)",
      "\u001b[0;32m<ipython-input-16-6829db593b36>\u001b[0m in \u001b[0;36m<module>\u001b[0;34m\u001b[0m\n\u001b[1;32m      1\u001b[0m \u001b[0mfig\u001b[0m\u001b[0;34m,\u001b[0m \u001b[0maxes\u001b[0m \u001b[0;34m=\u001b[0m \u001b[0mplt\u001b[0m\u001b[0;34m.\u001b[0m\u001b[0msubplots\u001b[0m\u001b[0;34m(\u001b[0m\u001b[0;36m1\u001b[0m\u001b[0;34m,\u001b[0m \u001b[0;36m2\u001b[0m\u001b[0;34m,\u001b[0m \u001b[0mfigsize\u001b[0m\u001b[0;34m=\u001b[0m\u001b[0;34m(\u001b[0m\u001b[0;36m20\u001b[0m\u001b[0;34m,\u001b[0m\u001b[0;36m12\u001b[0m\u001b[0;34m)\u001b[0m\u001b[0;34m)\u001b[0m\u001b[0;34m\u001b[0m\u001b[0;34m\u001b[0m\u001b[0m\n\u001b[1;32m      2\u001b[0m \u001b[0;32mfor\u001b[0m \u001b[0max\u001b[0m\u001b[0;34m,\u001b[0m \u001b[0mrd\u001b[0m\u001b[0;34m,\u001b[0m \u001b[0mt\u001b[0m \u001b[0;32min\u001b[0m \u001b[0mzip\u001b[0m\u001b[0;34m(\u001b[0m\u001b[0maxes\u001b[0m\u001b[0;34m,\u001b[0m \u001b[0;34m[\u001b[0m\u001b[0mavg_rel_diff_ee\u001b[0m\u001b[0;34m,\u001b[0m \u001b[0mavg_rel_diff_nn\u001b[0m\u001b[0;34m]\u001b[0m\u001b[0;34m,\u001b[0m \u001b[0;34m[\u001b[0m\u001b[0;34m'ee-polarized'\u001b[0m\u001b[0;34m,\u001b[0m \u001b[0;34m'nn-polarized'\u001b[0m\u001b[0;34m]\u001b[0m\u001b[0;34m)\u001b[0m\u001b[0;34m:\u001b[0m\u001b[0;34m\u001b[0m\u001b[0;34m\u001b[0m\u001b[0m\n\u001b[0;32m----> 3\u001b[0;31m     \u001b[0mextent\u001b[0m\u001b[0;34m=\u001b[0m\u001b[0;34m[\u001b[0m\u001b[0mhd\u001b[0m\u001b[0;34m.\u001b[0m\u001b[0mfreqs\u001b[0m\u001b[0;34m[\u001b[0m\u001b[0;36m0\u001b[0m\u001b[0;34m]\u001b[0m\u001b[0;34m/\u001b[0m\u001b[0;36m1e6\u001b[0m\u001b[0;34m,\u001b[0m \u001b[0mhd\u001b[0m\u001b[0;34m.\u001b[0m\u001b[0mfreqs\u001b[0m\u001b[0;34m[\u001b[0m\u001b[0;34m-\u001b[0m\u001b[0;36m1\u001b[0m\u001b[0;34m]\u001b[0m\u001b[0;34m/\u001b[0m\u001b[0;36m1e6\u001b[0m\u001b[0;34m,\u001b[0m \u001b[0mtimes\u001b[0m\u001b[0;34m[\u001b[0m\u001b[0;34m-\u001b[0m\u001b[0;36m1\u001b[0m\u001b[0;34m]\u001b[0m\u001b[0;34m,\u001b[0m \u001b[0mtimes\u001b[0m\u001b[0;34m[\u001b[0m\u001b[0;36m0\u001b[0m\u001b[0;34m]\u001b[0m\u001b[0;34m]\u001b[0m\u001b[0;34m\u001b[0m\u001b[0;34m\u001b[0m\u001b[0m\n\u001b[0m\u001b[1;32m      4\u001b[0m     \u001b[0mim\u001b[0m \u001b[0;34m=\u001b[0m \u001b[0max\u001b[0m\u001b[0;34m.\u001b[0m\u001b[0mimshow\u001b[0m\u001b[0;34m(\u001b[0m\u001b[0mrd\u001b[0m \u001b[0;34m/\u001b[0m \u001b[0;34m~\u001b[0m\u001b[0msc_flags\u001b[0m\u001b[0;34m[\u001b[0m\u001b[0mant0\u001b[0m\u001b[0;34m]\u001b[0m\u001b[0;34m,\u001b[0m \u001b[0maspect\u001b[0m\u001b[0;34m=\u001b[0m\u001b[0;34m'auto'\u001b[0m\u001b[0;34m,\u001b[0m \u001b[0mvmin\u001b[0m\u001b[0;34m=\u001b[0m\u001b[0;36m0\u001b[0m\u001b[0;34m,\u001b[0m \u001b[0mcmap\u001b[0m\u001b[0;34m=\u001b[0m\u001b[0;34m'inferno'\u001b[0m\u001b[0;34m,\u001b[0m \u001b[0mvmax\u001b[0m\u001b[0;34m=\u001b[0m\u001b[0;36m.2\u001b[0m\u001b[0;34m,\u001b[0m \u001b[0minterpolation\u001b[0m\u001b[0;34m=\u001b[0m\u001b[0;34m'nearest'\u001b[0m\u001b[0;34m,\u001b[0m \u001b[0mextent\u001b[0m\u001b[0;34m=\u001b[0m\u001b[0mextent\u001b[0m\u001b[0;34m)\u001b[0m\u001b[0;34m\u001b[0m\u001b[0;34m\u001b[0m\u001b[0m\n\u001b[1;32m      5\u001b[0m     ax.imshow(blacklist, aspect='auto', \n",
      "\u001b[0;31mNameError\u001b[0m: name 'hd' is not defined"
     ]
    },
    {
     "data": {
      "image/png": "[encoded data removed]",
      "text/plain": [
       "<Figure size 1440x864 with 2 Axes>"
      ]
     },
     "metadata": {
      "image/png": {
       "height": 686,
       "width": 1161
      },
      "needs_background": "light"
     },
     "output_type": "display_data"
    }
   ],
   "source": [
    "fig, axes = plt.subplots(1, 2, figsize=(20,12))\n",
    "for ax, rd, t in zip(axes, [avg_rel_diff_ee, avg_rel_diff_nn], ['ee-polarized', 'nn-polarized']):\n",
    "    extent=[hd.freqs[0]/1e6, hd.freqs[-1]/1e6, times[-1], times[0]]\n",
    "    im = ax.imshow(rd / ~sc_flags[ant0], aspect='auto', vmin=0, cmap='inferno', vmax=.2, interpolation='nearest', extent=extent)\n",
    "    ax.imshow(blacklist, aspect='auto', \n",
    "              cmap=my_cmap, interpolation=None, clim=[0.9, 1], alpha=.25, extent=extent)\n",
    "    ax.set_title('Relative Difference Between Smoothcal and Abscal: ' + t)\n",
    "    ax.set_xlabel('Frequency (MHz)')\n",
    "    ax.set_ylabel('LST (Hours)')\n",
    "    ax.set_yticklabels(np.around(lsts[[min(max(np.searchsorted(times, t), 0), len(times) - 1) for t in ax.get_yticks()]], 2))\n",
    "    plt.colorbar(im, ax=ax, label='$|g_{smooth} - g_{abs}| / |g_{abs}|$ (unitless)')"
   ]
  },
  {
   "cell_type": "markdown",
   "metadata": {},
   "source": [
    "### Figure 5: Relative difference between Abscal and Smoothcal\n",
    "\n",
    "Where omnical calfits files store $\\chi^2$ per antenna, smooth_cal calfits files store the relative difference between Abscal and Smoothcal gains. This difference is done before taking the absolute value, so this metric is sensitive both to phase errors and amplitude errors.\n",
    "\n",
    "#### OBSERVER CHECKLIST:\n",
    "* Look for regions of high relative difference that are not blacklisted. This would indicate a problem with smoothing."
   ]
  },
  {
   "cell_type": "markdown",
   "metadata": {},
   "source": [
    "# Metadata"
   ]
  },
  {
   "cell_type": "code",
   "execution_count": 17,
   "metadata": {
    "ExecuteTime": {
     "end_time": "2020-12-05T00:37:26.046151Z",
     "start_time": "2020-12-05T00:37:25.885454Z"
    }
   },
   "outputs": [
    {
     "name": "stdout",
     "output_type": "stream",
     "text": [
      "\n",
      "------------\n",
      "This file was produced by the function <module>() in <ipython-input-17-c6de44361328> using: \n",
      "    git_branch: \n",
      "    git_description: \n",
      "    git_hash: \n",
      "    git_origin: \n",
      "    version: 3.0\n",
      "------------\n",
      "\n"
     ]
    }
   ],
   "source": [
    "print(redcal.version.history_string())"
   ]
  },
  {
   "cell_type": "code",
   "execution_count": null,
   "metadata": {},
   "outputs": [],
   "source": []
  }
 ],
 "metadata": {
  "kernelspec": {
   "display_name": "Python 3",
   "language": "python",
   "name": "python3"
  },
  "language_info": {
   "codemirror_mode": {
    "name": "ipython",
    "version": 3
   },
   "file_extension": ".py",
   "mimetype": "text/x-python",
   "name": "python",
   "nbconvert_exporter": "python",
   "pygments_lexer": "ipython3",
   "version": "3.7.7"
  },
  "toc": {
   "base_numbering": 1,
   "nav_menu": {},
   "number_sections": false,
   "sideBar": true,
   "skip_h1_title": false,
   "title_cell": "Table of Contents",
   "title_sidebar": "Contents",
   "toc_cell": false,
   "toc_position": {},
   "toc_section_display": true,
   "toc_window_display": false
  }
 },
 "nbformat": 4,
 "nbformat_minor": 4
}
